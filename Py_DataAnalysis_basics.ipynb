{
 "cells": [
  {
   "cell_type": "code",
   "execution_count": null,
   "id": "773955c8-9338-4b20-b52e-cf88d02505b4",
   "metadata": {},
   "outputs": [],
   "source": [
    "\"\"\"This Notebook will run through the fundamentals of data analysis tools.\n",
    "   From series and dataframes to basics in data analysis in Pandas and Seaborn. \"\"\""
   ]
  },
  {
   "cell_type": "code",
   "execution_count": null,
   "id": "b61ee546-48a6-4862-9e6d-11035d6a28f1",
   "metadata": {},
   "outputs": [],
   "source": [
    "#Following will be basic data types which will be ever present, and their common methods"
   ]
  },
  {
   "cell_type": "code",
   "execution_count": 1,
   "id": "5ba3523b-e1a6-4e57-8a4f-31d23dec45b6",
   "metadata": {},
   "outputs": [],
   "source": [
    "my_list = ['a','b','c']"
   ]
  },
  {
   "cell_type": "code",
   "execution_count": 3,
   "id": "930e7f24-8de2-4b6e-a11f-86b44d4cf673",
   "metadata": {},
   "outputs": [
    {
     "name": "stdout",
     "output_type": "stream",
     "text": [
      "['a', 'b', 'c']\n"
     ]
    }
   ],
   "source": [
    "print(my_list)"
   ]
  },
  {
   "cell_type": "code",
   "execution_count": 5,
   "id": "23cc1a6a-6024-47ba-973b-3f7bd2e84520",
   "metadata": {},
   "outputs": [],
   "source": [
    "my_list.append('New')"
   ]
  },
  {
   "cell_type": "code",
   "execution_count": 13,
   "id": "2b479ac0-eedd-43f4-815e-46cd80e34e23",
   "metadata": {},
   "outputs": [],
   "source": [
    "my_list.append(['d','e','f'])"
   ]
  },
  {
   "cell_type": "code",
   "execution_count": 17,
   "id": "2ee09e58-dbd7-41e0-acdf-4733e3920c09",
   "metadata": {},
   "outputs": [
    {
     "data": {
      "text/plain": [
       "'e'"
      ]
     },
     "execution_count": 17,
     "metadata": {},
     "output_type": "execute_result"
    }
   ],
   "source": [
    "my_list[4][1]"
   ]
  },
  {
   "cell_type": "code",
   "execution_count": 35,
   "id": "53b6dce8-c202-4b4e-84e4-dead5db2c90c",
   "metadata": {},
   "outputs": [],
   "source": [
    "dict = {'key1':{'innerkey1':[0,1,2]}}"
   ]
  },
  {
   "cell_type": "code",
   "execution_count": 37,
   "id": "a962b556-8e35-43c5-a5b7-5efbbf4d0eaa",
   "metadata": {},
   "outputs": [
    {
     "data": {
      "text/plain": [
       "2"
      ]
     },
     "execution_count": 37,
     "metadata": {},
     "output_type": "execute_result"
    }
   ],
   "source": [
    "dict['key1']['innerkey1'][2]"
   ]
  },
  {
   "cell_type": "code",
   "execution_count": 45,
   "id": "22d89db9-8693-41e3-b5a7-bc5b72ee5362",
   "metadata": {},
   "outputs": [],
   "source": [
    "dict['key1'] = [1,2,3]"
   ]
  },
  {
   "cell_type": "code",
   "execution_count": 49,
   "id": "cec2ffa0-5cce-411d-82ad-41eb24d43fe5",
   "metadata": {},
   "outputs": [],
   "source": [
    "dict['key2'] = [4,5,6]"
   ]
  },
  {
   "cell_type": "code",
   "execution_count": 61,
   "id": "4b927cb8-7de2-4f46-b56b-d8dc0251f4b6",
   "metadata": {},
   "outputs": [
    {
     "name": "stdout",
     "output_type": "stream",
     "text": [
      "learn better syntax\n"
     ]
    }
   ],
   "source": [
    "if 1>2:\n",
    "    print('wrong!')\n",
    "else:\n",
    "    print('learn better syntax')"
   ]
  },
  {
   "cell_type": "code",
   "execution_count": 63,
   "id": "4539adc9-090b-4512-9b8e-e52e6fd11daf",
   "metadata": {},
   "outputs": [],
   "source": [
    "def times2(var):\n",
    "    return var*2"
   ]
  },
  {
   "cell_type": "code",
   "execution_count": 69,
   "id": "db74215c-a522-4b7d-ac35-a8c0c95dcb9f",
   "metadata": {},
   "outputs": [
    {
     "name": "stdout",
     "output_type": "stream",
     "text": [
      "2\n",
      "4\n",
      "6\n",
      "8\n",
      "10\n"
     ]
    }
   ],
   "source": [
    "seq = [1,2,3,4,5]\n",
    "\n",
    "for num in seq:\n",
    "    print(times2(num))"
   ]
  },
  {
   "cell_type": "code",
   "execution_count": 73,
   "id": "95cbc130-9351-43b2-b936-c4105428a32b",
   "metadata": {},
   "outputs": [
    {
     "data": {
      "text/plain": [
       "[3, 6, 9, 12, 15]"
      ]
     },
     "execution_count": 73,
     "metadata": {},
     "output_type": "execute_result"
    }
   ],
   "source": [
    "list(map(lambda num: num*3,seq))"
   ]
  },
  {
   "cell_type": "code",
   "execution_count": 75,
   "id": "c074ab28-d711-465c-949a-6287341adb46",
   "metadata": {},
   "outputs": [
    {
     "data": {
      "text/plain": [
       "[2, 4]"
      ]
     },
     "execution_count": 75,
     "metadata": {},
     "output_type": "execute_result"
    }
   ],
   "source": [
    "list(filter(lambda num: num%2 == 0, seq))"
   ]
  },
  {
   "cell_type": "code",
   "execution_count": 1,
   "id": "c55cbde0-a069-47ad-88ae-0691d7c82ce5",
   "metadata": {},
   "outputs": [],
   "source": [
    "import numpy as np"
   ]
  },
  {
   "cell_type": "code",
   "execution_count": 3,
   "id": "e0c85b61-bb8e-45c4-910e-090818c4ec34",
   "metadata": {},
   "outputs": [
    {
     "data": {
      "text/plain": [
       "array([1, 2, 3])"
      ]
     },
     "execution_count": 3,
     "metadata": {},
     "output_type": "execute_result"
    }
   ],
   "source": [
    "#This will be followed by numpy excercises and notes \n",
    "my_list = [1,2,3]\n",
    "\n",
    "np.array(my_list)\n",
    "\n"
   ]
  },
  {
   "cell_type": "code",
   "execution_count": 5,
   "id": "32d7215c-b0f6-41de-b996-482ed20396be",
   "metadata": {},
   "outputs": [
    {
     "name": "stdout",
     "output_type": "stream",
     "text": [
      "[1 2 3]\n"
     ]
    }
   ],
   "source": [
    "arr = np.array(my_list)\n",
    "print(arr)"
   ]
  },
  {
   "cell_type": "code",
   "execution_count": 7,
   "id": "de44e48e-ffac-40a7-a79a-326d23b394d2",
   "metadata": {},
   "outputs": [],
   "source": [
    "my_mat = [[1,2,3],[4,5,6],[7,8,9]] # A matrice is reperesented as a list of lists"
   ]
  },
  {
   "cell_type": "code",
   "execution_count": 9,
   "id": "ed56664b-deab-4781-adb3-22972d38de07",
   "metadata": {},
   "outputs": [
    {
     "data": {
      "text/plain": [
       "array([[1, 2, 3],\n",
       "       [4, 5, 6],\n",
       "       [7, 8, 9]])"
      ]
     },
     "execution_count": 9,
     "metadata": {},
     "output_type": "execute_result"
    }
   ],
   "source": [
    "np.array(my_mat)"
   ]
  },
  {
   "cell_type": "code",
   "execution_count": 11,
   "id": "5322f186-a3b9-48bd-ae4d-5f7807d11480",
   "metadata": {},
   "outputs": [
    {
     "data": {
      "text/plain": [
       "array([ 0,  1,  2,  3,  4,  5,  6,  7,  8,  9, 10])"
      ]
     },
     "execution_count": 11,
     "metadata": {},
     "output_type": "execute_result"
    }
   ],
   "source": [
    "#Generating lists can be done quickly with numpy\n",
    "\n",
    "np.arange(0,11)"
   ]
  },
  {
   "cell_type": "code",
   "execution_count": 13,
   "id": "90240e19-03d6-4ac6-a39c-eedcd689d8f5",
   "metadata": {},
   "outputs": [
    {
     "data": {
      "text/plain": [
       "array([0., 0., 0.])"
      ]
     },
     "execution_count": 13,
     "metadata": {},
     "output_type": "execute_result"
    }
   ],
   "source": [
    "np.zeros(3)"
   ]
  },
  {
   "cell_type": "code",
   "execution_count": 15,
   "id": "32fe6697-7e82-4172-a958-d47e7ffc935f",
   "metadata": {},
   "outputs": [
    {
     "data": {
      "text/plain": [
       "array([[0., 0., 0.],\n",
       "       [0., 0., 0.]])"
      ]
     },
     "execution_count": 15,
     "metadata": {},
     "output_type": "execute_result"
    }
   ],
   "source": [
    "np.zeros((2,3))"
   ]
  },
  {
   "cell_type": "code",
   "execution_count": 17,
   "id": "200f5feb-a63b-4a58-9cb9-44cb593a540b",
   "metadata": {},
   "outputs": [
    {
     "data": {
      "text/plain": [
       "array([[1., 1., 1., 1.],\n",
       "       [1., 1., 1., 1.],\n",
       "       [1., 1., 1., 1.]])"
      ]
     },
     "execution_count": 17,
     "metadata": {},
     "output_type": "execute_result"
    }
   ],
   "source": [
    "np.ones((3,4))"
   ]
  },
  {
   "cell_type": "code",
   "execution_count": 19,
   "id": "755357b4-ba08-417d-a494-27115fd60dc7",
   "metadata": {},
   "outputs": [
    {
     "data": {
      "text/plain": [
       "array([ 0.  ,  2.75,  5.5 ,  8.25, 11.  ])"
      ]
     },
     "execution_count": 19,
     "metadata": {},
     "output_type": "execute_result"
    }
   ],
   "source": [
    "np.linspace(0,11,5) #Generates arrays filled with a number of evenly spaced values within a range"
   ]
  },
  {
   "cell_type": "code",
   "execution_count": 21,
   "id": "5df3a765-0d75-48f0-bbfe-4f0704ee28ec",
   "metadata": {},
   "outputs": [
    {
     "data": {
      "text/plain": [
       "array([0.55682002, 0.43141368, 0.6549408 , 0.00456605, 0.42125784])"
      ]
     },
     "execution_count": 21,
     "metadata": {},
     "output_type": "execute_result"
    }
   ],
   "source": [
    "np.random.rand(5)"
   ]
  },
  {
   "cell_type": "code",
   "execution_count": 23,
   "id": "2c4abf83-399f-4087-bf88-bef895fd2695",
   "metadata": {},
   "outputs": [
    {
     "data": {
      "text/plain": [
       "array([[0.49586205, 0.51315164, 0.92059415, 0.02605299, 0.33786377],\n",
       "       [0.30576336, 0.14368624, 0.5110927 , 0.96864978, 0.51527577],\n",
       "       [0.11005202, 0.50769365, 0.29860259, 0.36418549, 0.53926703],\n",
       "       [0.05115817, 0.15171045, 0.14117049, 0.29140579, 0.46062856],\n",
       "       [0.85856338, 0.02081879, 0.85923699, 0.68515004, 0.57700425]])"
      ]
     },
     "execution_count": 23,
     "metadata": {},
     "output_type": "execute_result"
    }
   ],
   "source": [
    "np.random.rand(5,5)"
   ]
  },
  {
   "cell_type": "code",
   "execution_count": 25,
   "id": "ad44ac32-e7c7-460d-a57c-843a29c29851",
   "metadata": {},
   "outputs": [
    {
     "data": {
      "text/plain": [
       "array([-1.91618903, -0.58674354, -0.02936219,  1.37065708,  0.35317586])"
      ]
     },
     "execution_count": 25,
     "metadata": {},
     "output_type": "execute_result"
    }
   ],
   "source": [
    "np.random.randn(5) # Gaussian distribution around 0"
   ]
  },
  {
   "cell_type": "code",
   "execution_count": 29,
   "id": "64aae918-13fe-4e41-ab17-759a46138d6c",
   "metadata": {},
   "outputs": [],
   "source": [
    "arr = np.random.randint(1,100,10) #10 random integers between 1(incl) and 100(excl)"
   ]
  },
  {
   "cell_type": "code",
   "execution_count": 31,
   "id": "ae09837a-ee9a-4e72-8f10-e8a448f604de",
   "metadata": {},
   "outputs": [
    {
     "data": {
      "text/plain": [
       "85"
      ]
     },
     "execution_count": 31,
     "metadata": {},
     "output_type": "execute_result"
    }
   ],
   "source": [
    "arr.max()"
   ]
  },
  {
   "cell_type": "code",
   "execution_count": 35,
   "id": "1e02ff1f-1584-4809-9b2d-c003437ca6e8",
   "metadata": {},
   "outputs": [
    {
     "data": {
      "text/plain": [
       "6"
      ]
     },
     "execution_count": 35,
     "metadata": {},
     "output_type": "execute_result"
    }
   ],
   "source": [
    "arr.argmax()"
   ]
  },
  {
   "cell_type": "code",
   "execution_count": null,
   "id": "dea595f0-9395-4d4d-bd30-f27941cf34ef",
   "metadata": {},
   "outputs": [],
   "source": [
    "# what follows are notes and examples of numpy indexing and selection."
   ]
  },
  {
   "cell_type": "code",
   "execution_count": 43,
   "id": "1e3e8018-0f9b-4334-9754-022bfcc7284b",
   "metadata": {},
   "outputs": [],
   "source": [
    "arr = np.arange(1,11)"
   ]
  },
  {
   "cell_type": "code",
   "execution_count": 45,
   "id": "29cfa689-9a5c-457d-9686-7de40ba63999",
   "metadata": {},
   "outputs": [
    {
     "data": {
      "text/plain": [
       "array([ 1,  2,  3,  4,  5,  6,  7,  8,  9, 10])"
      ]
     },
     "execution_count": 45,
     "metadata": {},
     "output_type": "execute_result"
    }
   ],
   "source": [
    "arr"
   ]
  },
  {
   "cell_type": "code",
   "execution_count": 59,
   "id": "f2c0fa24-2338-40bf-ad80-c9341bf07cf2",
   "metadata": {},
   "outputs": [
    {
     "data": {
      "text/plain": [
       "array([1, 2, 3, 4, 5, 6])"
      ]
     },
     "execution_count": 59,
     "metadata": {},
     "output_type": "execute_result"
    }
   ],
   "source": [
    "arr[0:6]"
   ]
  },
  {
   "cell_type": "code",
   "execution_count": 63,
   "id": "4e52b2a1-dd4e-45a3-805f-666517b40f3c",
   "metadata": {},
   "outputs": [],
   "source": [
    "arr_2d = np.array([[5,10,15],[20,25,30],[35,40,45]])"
   ]
  },
  {
   "cell_type": "code",
   "execution_count": 73,
   "id": "fd908049-c7c3-4e25-a3de-37171354a660",
   "metadata": {},
   "outputs": [
    {
     "data": {
      "text/plain": [
       "array([[ 5, 10, 15],\n",
       "       [20, 25, 30],\n",
       "       [35, 40, 45]])"
      ]
     },
     "execution_count": 73,
     "metadata": {},
     "output_type": "execute_result"
    }
   ],
   "source": [
    "arr_2d"
   ]
  },
  {
   "cell_type": "code",
   "execution_count": 95,
   "id": "8f2201ea-a6be-47de-ac4b-5d26e8f85f99",
   "metadata": {},
   "outputs": [
    {
     "data": {
      "text/plain": [
       "array([[10],\n",
       "       [25],\n",
       "       [40]])"
      ]
     },
     "execution_count": 95,
     "metadata": {},
     "output_type": "execute_result"
    }
   ],
   "source": [
    "arr_2d[:3,1:2]"
   ]
  },
  {
   "cell_type": "code",
   "execution_count": 97,
   "id": "4767fe60-5548-4acb-8f7a-b8bda703340f",
   "metadata": {},
   "outputs": [
    {
     "data": {
      "text/plain": [
       "array([ 1,  2,  3,  4,  5,  6,  7,  8,  9, 10])"
      ]
     },
     "execution_count": 97,
     "metadata": {},
     "output_type": "execute_result"
    }
   ],
   "source": [
    "arr"
   ]
  },
  {
   "cell_type": "code",
   "execution_count": 99,
   "id": "480dbe47-42fd-41f7-8f3f-7e8c169ebd35",
   "metadata": {},
   "outputs": [
    {
     "data": {
      "text/plain": [
       "array([False, False, False, False, False,  True,  True,  True,  True,\n",
       "        True])"
      ]
     },
     "execution_count": 99,
     "metadata": {},
     "output_type": "execute_result"
    }
   ],
   "source": [
    "arr > 5"
   ]
  },
  {
   "cell_type": "code",
   "execution_count": 101,
   "id": "c361fb5f-7597-41d4-b379-0faaca421e6a",
   "metadata": {},
   "outputs": [],
   "source": [
    "bool_arr = arr > 5"
   ]
  },
  {
   "cell_type": "code",
   "execution_count": 1,
   "id": "ce92e465-9bee-40e9-bdb9-5e09c5a36831",
   "metadata": {},
   "outputs": [],
   "source": [
    "#Following will be Pandas basics from series to dataframes"
   ]
  },
  {
   "cell_type": "code",
   "execution_count": 3,
   "id": "04a4cdc9-5425-491a-b1ee-da4fc45cac61",
   "metadata": {},
   "outputs": [],
   "source": [
    "import numpy as np\n",
    "import pandas as pd"
   ]
  },
  {
   "cell_type": "code",
   "execution_count": 5,
   "id": "f2065f07-7fbf-4676-9a89-ad211809357c",
   "metadata": {},
   "outputs": [],
   "source": [
    "labels = ['a','b','c']\n",
    "my_data = [10,20,30]\n",
    "arr = np.array(my_data)\n",
    "dic = {'a':10,'b':20,'c':30}"
   ]
  },
  {
   "cell_type": "code",
   "execution_count": 9,
   "id": "cb5ac247-f4e3-40bb-a268-45fd18ebed64",
   "metadata": {},
   "outputs": [
    {
     "data": {
      "text/plain": [
       "a    10\n",
       "b    20\n",
       "c    30\n",
       "dtype: int64"
      ]
     },
     "execution_count": 9,
     "metadata": {},
     "output_type": "execute_result"
    }
   ],
   "source": [
    "pd.Series(data=my_data, index=labels)"
   ]
  },
  {
   "cell_type": "code",
   "execution_count": 11,
   "id": "08ae88a7-8eda-48e0-b054-56072a66eb63",
   "metadata": {},
   "outputs": [
    {
     "data": {
      "text/plain": [
       "a    10\n",
       "b    20\n",
       "c    30\n",
       "dtype: int32"
      ]
     },
     "execution_count": 11,
     "metadata": {},
     "output_type": "execute_result"
    }
   ],
   "source": [
    "#Raw lists can be used to create pandas series along with numpy arrays as well.\n",
    "pd.Series(arr,labels)"
   ]
  },
  {
   "cell_type": "code",
   "execution_count": 13,
   "id": "cced9422-4a06-4b4b-aed4-b125b7792782",
   "metadata": {},
   "outputs": [
    {
     "data": {
      "text/plain": [
       "a    10\n",
       "b    20\n",
       "c    30\n",
       "dtype: int64"
      ]
     },
     "execution_count": 13,
     "metadata": {},
     "output_type": "execute_result"
    }
   ],
   "source": [
    "\"\"\"Note that passing in a dictionary will have the keys be assigned as indices\n",
    "    and the values will be assigned as data.\"\"\"\n",
    "\n",
    "pd.Series(dic)"
   ]
  },
  {
   "cell_type": "code",
   "execution_count": 15,
   "id": "6da57fd3-6b15-42c4-98d4-79ddabb00b88",
   "metadata": {},
   "outputs": [],
   "source": [
    "# Series, just like a dictionary, make it easier to look up information more precisely.\n",
    "# Following is an example"
   ]
  },
  {
   "cell_type": "code",
   "execution_count": 17,
   "id": "114a9a93-83aa-4386-b378-dd015d9a8e19",
   "metadata": {},
   "outputs": [
    {
     "data": {
      "text/plain": [
       "USA        1\n",
       "GERMANY    2\n",
       "USSR       3\n",
       "JAPAN      4\n",
       "dtype: int64"
      ]
     },
     "execution_count": 17,
     "metadata": {},
     "output_type": "execute_result"
    }
   ],
   "source": [
    "ser1 = pd.Series([1,2,3,4], ['USA','GERMANY','USSR','JAPAN'])\n",
    "ser1"
   ]
  },
  {
   "cell_type": "code",
   "execution_count": 20,
   "id": "a1657bc2-c881-44aa-a73c-f09668af9cd0",
   "metadata": {},
   "outputs": [
    {
     "data": {
      "text/plain": [
       "USA        1\n",
       "GERMANY    2\n",
       "ITALY      5\n",
       "JAPAN      4\n",
       "dtype: int64"
      ]
     },
     "execution_count": 20,
     "metadata": {},
     "output_type": "execute_result"
    }
   ],
   "source": [
    "ser2 = pd.Series([1,2,5,4], ['USA','GERMANY','ITALY','JAPAN'])\n",
    "ser2"
   ]
  },
  {
   "cell_type": "code",
   "execution_count": 22,
   "id": "eb410df3-0d1d-4b28-9586-23d85748f81b",
   "metadata": {},
   "outputs": [
    {
     "data": {
      "text/plain": [
       "1"
      ]
     },
     "execution_count": 22,
     "metadata": {},
     "output_type": "execute_result"
    }
   ],
   "source": [
    "#Grabbing information is similar to indexing\n",
    "\n",
    "ser1['USA']"
   ]
  }
 ],
 "metadata": {
  "kernelspec": {
   "display_name": "Python 3 (ipykernel)",
   "language": "python",
   "name": "python3"
  },
  "language_info": {
   "codemirror_mode": {
    "name": "ipython",
    "version": 3
   },
   "file_extension": ".py",
   "mimetype": "text/x-python",
   "name": "python",
   "nbconvert_exporter": "python",
   "pygments_lexer": "ipython3",
   "version": "3.12.4"
  }
 },
 "nbformat": 4,
 "nbformat_minor": 5
}
